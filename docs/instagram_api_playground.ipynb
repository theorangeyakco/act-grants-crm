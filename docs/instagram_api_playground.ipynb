{
 "cells": [
  {
   "cell_type": "markdown",
   "id": "ab1c2ecd",
   "metadata": {},
   "source": [
    "# Instagram API flow to get posts by hashtag \n",
    "Prepared for ACT Grants by Orange Yak \n",
    "\n",
    "Author: Param Kapur    \n",
    "Date: 3rd July 2021"
   ]
  },
  {
   "cell_type": "code",
   "execution_count": 51,
   "id": "b1121e3b",
   "metadata": {},
   "outputs": [],
   "source": [
    "BASE_PATH = \"https://graph.facebook.com/v11.0/\"\n",
    "ACCESS_TOKEN = \"EAAJO9J9bgkUBAKFGTEGKmV0n31DlRnRjDnLZBklAKuTZADZBJE2vB8VP8iogDTRskawnzLZA3FAzDDDIAF9U6YiK4KYH458VS8ZAYoUb8g14ZA11bHyY8jWZAzA7SHS9wUrw1ZCxeYtkkb4Mmt3KtcsrgSGSCDyxwWyow4t6x81ZAKhSiTFlpVSKI1MfV43cvFZChL5SKf3KfEW1P7eGW5vQP3\"\n",
    "APP_ID = 649762505982533\n",
    "CLIENT_SECRET = \"1a57b17ead6554b35c30594d7fe45284\"\n",
    "FB_PAGE_ID = 107927588219929\n",
    "INSTAGRAM_USER_ID = 17841440097265217"
   ]
  },
  {
   "cell_type": "markdown",
   "id": "dfe3dda3",
   "metadata": {},
   "source": [
    "### Get Long-Lived access token"
   ]
  },
  {
   "cell_type": "code",
   "execution_count": 52,
   "id": "3bd07a06",
   "metadata": {},
   "outputs": [
    {
     "name": "stdout",
     "output_type": "stream",
     "text": [
      "{'access_token': 'EAAJO9J9bgkUBAMSIMtPf3e6LUWwJcqXGFhtVfjXOrHYAeB6sEMFs1ZBCFrEYZAdgiDaxwScaeJmCt1WGTvZA1YZAlnZBxU0FfGYtb0iNTqKTNyfFIBklVXHA2U6pm8sEsrZBCbst3c72P8kfwHroM77F8jXdL6jI2ATxe2ZAodd8wZDZD', 'token_type': 'bearer', 'expires_in': 5169016}\n"
     ]
    }
   ],
   "source": [
    "import requests\n",
    "import json \n",
    "\n",
    "path = BASE_PATH + f'oauth/access_token?grant_type=fb_exchange_token&client_id={APP_ID}&client_secret={CLIENT_SECRET}&fb_exchange_token={ACCESS_TOKEN}'\n",
    "\n",
    "response = requests.get(url=path)\n",
    "response_data = json.loads(response.text)\n",
    "print(response_data)\n"
   ]
  },
  {
   "cell_type": "code",
   "execution_count": 55,
   "id": "21378e5b",
   "metadata": {},
   "outputs": [],
   "source": [
    "# Access token generated at 20:16 EST on July 3rd 2021\n",
    "\n",
    "ACCESS_TOKEN = \"EAAJO9J9bgkUBAMSIMtPf3e6LUWwJcqXGFhtVfjXOrHYAeB6sEMFs1ZBCFrEYZAdgiDaxwScaeJmCt1WGTvZA1YZAlnZBxU0FfGYtb0iNTqKTNyfFIBklVXHA2U6pm8sEsrZBCbst3c72P8kfwHroM77F8jXdL6jI2ATxe2ZAodd8wZDZD\""
   ]
  },
  {
   "cell_type": "markdown",
   "id": "a3b3d317",
   "metadata": {},
   "source": [
    "### Get Hashtag ID"
   ]
  },
  {
   "cell_type": "code",
   "execution_count": 56,
   "id": "4cebc8ab",
   "metadata": {},
   "outputs": [
    {
     "name": "stdout",
     "output_type": "stream",
     "text": [
      "{'data': [{'id': '17841563182122264'}]}\n",
      "Hashtag ID: 17841563182122264\n"
     ]
    }
   ],
   "source": [
    "import requests\n",
    "import json\n",
    "\n",
    "query = 'formula2'\n",
    "path = BASE_PATH + f'ig_hashtag_search?user_id={INSTAGRAM_USER_ID}&q={query}&access_token={ACCESS_TOKEN}'\n",
    "\n",
    "response = requests.get(url=path)\n",
    "response_data = json.loads(response.text)\n",
    "print(response_data)\n",
    "\n",
    "hashtag_id = response_data['data'][0]['id']\n",
    "print(f\"Hashtag ID: {hashtag_id}\")\n"
   ]
  },
  {
   "cell_type": "markdown",
   "id": "d7db336b",
   "metadata": {},
   "source": [
    "### Get all media from a hashtag\n",
    "We can use two edges for this endpoint `recent_media` and `top_media` (from the last week)"
   ]
  },
  {
   "cell_type": "code",
   "execution_count": 57,
   "id": "c78dc161",
   "metadata": {},
   "outputs": [
    {
     "name": "stdout",
     "output_type": "stream",
     "text": [
      "[{'id': '18123795037212702', 'media_type': 'VIDEO'},\n",
      " {'id': '18181144879141924',\n",
      "  'media_type': 'IMAGE',\n",
      "  'media_url': 'https://scontent-lga3-2.cdninstagram.com/v/t51.29350-15/209800677_101793415479946_3092381485978835843_n.jpg?_nc_cat=106&ccb=1-3&_nc_sid=8ae9d6&_nc_ohc=5wCkRbpDMIgAX_497ax&_nc_ht=scontent-lga3-2.cdninstagram.com&oh=721eca086d23bc484bb343660ad2ee70&oe=60E58BD2'},\n",
      " {'id': '18189920935129263',\n",
      "  'media_type': 'IMAGE',\n",
      "  'media_url': 'https://scontent-lga3-2.cdninstagram.com/v/t51.2885-15/210362519_897692694144520_4865777868201256293_n.jpg?_nc_cat=105&ccb=1-3&_nc_sid=8ae9d6&_nc_ohc=UG4h0MTdPcwAX-9dT6D&_nc_ht=scontent-lga3-2.cdninstagram.com&oh=03bf1d8291e3f66336ecc4a68fbee924&oe=60E5D9C3'},\n",
      " {'id': '17904879661982073',\n",
      "  'media_type': 'VIDEO',\n",
      "  'media_url': 'https://video-lga3-2.cdninstagram.com/v/t50.2886-16/207023231_135271868706537_4991910097279407255_n.mp4?_nc_cat=100&vs=17877847433426060_1291914677&_nc_vs=HBksFQAYJEdILXNWZ3pwcnE1dkIzc0FBSmRVQmdQSjAwWkZia1lMQUFBRhUAAsgBABUAGCRHTUphVGd6clp4eGlCZFVDQUdHQnR3dFdnaHh5YmtZTEFBQUYVAgLIAQAoABgAGwGIB3VzZV9vaWwBMRUAACak1u3z7PTMPxUCKAJDMywXQD1VP3ztkWgYEmRhc2hfYmFzZWxpbmVfMV92MREAdeoHAA%3D%3D&ccb=1-3&_nc_sid=59939d&efg=eyJ2ZW5jb2RlX3RhZyI6InZ0c192b2RfdXJsZ2VuLjU3Ni5mZWVkIn0%3D&_nc_ohc=AYkebLBiDKcAX8RxzRQ&_nc_oc=AQk0Jlm8sUpOSRGh_Msgu43iQrGwiGu74mihnVg_XsB584yTuvm1ovXnyfyWSUxPvN8&_nc_ht=video-lga3-2.cdninstagram.com&oh=831547f37822514b08ca016bc9e5c106&oe=60E1A2A0&_nc_rid=9500d891db'},\n",
      " {'id': '18236456449025360',\n",
      "  'media_type': 'IMAGE',\n",
      "  'media_url': 'https://scontent-lga3-2.cdninstagram.com/v/t51.2885-15/210502343_876316226293331_3743775414481093993_n.jpg?_nc_cat=100&ccb=1-3&_nc_sid=8ae9d6&_nc_ohc=KqXS4nAC46sAX_-tRwR&_nc_ht=scontent-lga3-2.cdninstagram.com&oh=6f402235d0a124b753398d6bc277fb09&oe=60E5E8BC'},\n",
      " {'id': '17902484177040236',\n",
      "  'media_type': 'VIDEO',\n",
      "  'media_url': 'https://video-lga3-2.cdninstagram.com/v/t50.2886-16/213024142_385243519696733_4914955736861737010_n.mp4?_nc_cat=110&vs=18230889268067577_3583467979&_nc_vs=HBksFQAYJEdJNTlzZ3hkdnlSLVlGNEJBREtBYWI0emJqVkVia1lMQUFBRhUAAsgBABUAGCRHSm9Dcnd6b3pqTFZQQndCQUlDd2tlbndHYjhHYmtZTEFBQUYVAgLIAQAoABgAGwGIB3VzZV9vaWwBMRUAACbK9Yz72sasQBUCKAJDMywXQB6p%2B%2Bdsi0QYEmRhc2hfYmFzZWxpbmVfMV92MREAdeoHAA%3D%3D&ccb=1-3&_nc_sid=59939d&efg=eyJ2ZW5jb2RlX3RhZyI6InZ0c192b2RfdXJsZ2VuLjU3Ni5mZWVkIn0%3D&_nc_ohc=fo1MqxzNiSgAX9Ng7z4&_nc_ht=video-lga3-2.cdninstagram.com&oh=cdfcc8aa5c516125cdb5ffdf82f438b1&oe=60E1813F&_nc_rid=f33aa432d0'},\n",
      " {'id': '18165520213145032',\n",
      "  'media_type': 'IMAGE',\n",
      "  'media_url': 'https://scontent-lga3-2.cdninstagram.com/v/t51.29350-15/210492717_294557855741560_531281454620454031_n.jpg?_nc_cat=1&ccb=1-3&_nc_sid=8ae9d6&_nc_ohc=nRET-F7-8bkAX_gtcft&_nc_ht=scontent-lga3-2.cdninstagram.com&oh=88432177609534481efa0d5f8b59ce92&oe=60E5AA55'},\n",
      " {'id': '17879215136457454',\n",
      "  'media_type': 'IMAGE',\n",
      "  'media_url': 'https://scontent-lga3-2.cdninstagram.com/v/t51.2885-15/209618397_587382378915674_464947883177493755_n.jpg?_nc_cat=102&ccb=1-3&_nc_sid=8ae9d6&_nc_ohc=pWit7MhMDiwAX9UIZdr&_nc_ht=scontent-lga3-2.cdninstagram.com&oh=55da7c6259a932e75720558accbf4c4a&oe=60E64172'},\n",
      " {'id': '17894300921156486',\n",
      "  'media_type': 'VIDEO',\n",
      "  'media_url': 'https://video-lga3-2.cdninstagram.com/v/t50.2886-16/206714038_529526471734785_147688950843309274_n.mp4?_nc_cat=106&vs=17904687340980169_3292478810&_nc_vs=HBksFQAYJEdMWTBVZ3dCTmotOW1lRUJBTnI4UTN4UnNnd0Nia1lMQUFBRhUAAsgBABUAGCRHRGdIVXd6eTJJRHozYmdCQU9ncWlva0VXMGNoYmtZTEFBQUYVAgLIAQAoABgAGwGIB3VzZV9vaWwBMRUAACa0m7yDjLfLPxUCKAJDMywXQDv3S8an754YEmRhc2hfYmFzZWxpbmVfMV92MREAdeoHAA%3D%3D&ccb=1-3&_nc_sid=59939d&efg=eyJ2ZW5jb2RlX3RhZyI6InZ0c192b2RfdXJsZ2VuLjU3Ni5mZWVkIn0%3D&_nc_ohc=yor0Cik7rGUAX936rSU&_nc_ht=video-lga3-2.cdninstagram.com&oh=6a5f1e3111bb88aa9ce107460c62b4a0&oe=60E19719&_nc_rid=24c14e21e6'},\n",
      " {'children': {'data': [{'id': '17920231009667037',\n",
      "                         'media_type': 'IMAGE',\n",
      "                         'media_url': 'https://scontent-lga3-2.cdninstagram.com/v/t51.2885-15/197281385_123542823201951_3445486448977014824_n.jpg?_nc_cat=109&ccb=1-3&_nc_sid=8ae9d6&_nc_ohc=laJpRP8Bc2EAX_q9IOu&_nc_ht=scontent-lga3-2.cdninstagram.com&oh=2fdf9e10716b2487ae5e291a0b6178b2&oe=60E5D433'},\n",
      "                        {'id': '17922135403719569',\n",
      "                         'media_type': 'VIDEO',\n",
      "                         'media_url': 'https://video-lga3-2.cdninstagram.com/v/t50.2886-16/10000000_153918010052717_9097014651105892244_n.mp4?_nc_cat=101&vs=18181408804104185_2466079275&_nc_vs=HBksFQAYJEdJQ1dtQUJ0VUZEVS1Jc0FBSlRYc0l1Z0ZqOV9ia1lMQUFBRhUAAsgBABUAGCRHTmhRMFFzRnNqbm5Yb0lBQUJIaDZnd2UxNWxaYmtZTEFBQUYVAgLIAQAoABgAGwGIB3VzZV9vaWwBMRUAACa%2Bkp%2BYup%2BuQBUCKAJDMywXQEIzMzMzMzMYEmRhc2hfYmFzZWxpbmVfMl92MREAde4HAA%3D%3D&ccb=1-3&_nc_sid=59939d&efg=eyJ2ZW5jb2RlX3RhZyI6InZ0c192b2RfdXJsZ2VuLjk2MC5jYXJvdXNlbF9pdGVtIn0%3D&_nc_ohc=hOJnBCCVTdEAX_Mh969&_nc_ht=video-lga3-2.cdninstagram.com&oh=3233034793e989b8f8ed3548361ef8e5&oe=60E18A47&_nc_rid=c6ea71a3ee'}]},\n",
      "  'id': '17913873817801759',\n",
      "  'media_type': 'CAROUSEL_ALBUM'},\n",
      " {'id': '17914397992840998',\n",
      "  'media_type': 'VIDEO',\n",
      "  'media_url': 'https://video-lga3-2.cdninstagram.com/v/t50.2886-16/202718576_497083591507611_4050567203760667954_n.mp4?_nc_cat=108&vs=17902093261913899_1348867562&_nc_vs=HBksFQAYJEdIQTlGUXliUHVWS0dNUUJBREo5QURkcGdUWTRia1lMQUFBRhUAAsgBABUAGCRHQWk0R1F6dUgySFJpMmNBQUxpbWd4cTVmdzVTYmtZTEFBQUYVAgLIAQAoABgAGwGIB3VzZV9vaWwBMRUAACbc1bSAx83MPxUCKAJDMywXQDuQ5WBBiTcYEmRhc2hfYmFzZWxpbmVfMV92MREAdeoHAA%3D%3D&ccb=1-3&_nc_sid=59939d&efg=eyJ2ZW5jb2RlX3RhZyI6InZ0c192b2RfdXJsZ2VuLjU3Ni5mZWVkIn0%3D&_nc_ohc=_cW8j7TPhywAX-Eyf6f&_nc_ht=video-lga3-2.cdninstagram.com&oh=b9bc45200db7fb50a725583252fed6f6&oe=60E1962A&_nc_rid=04575a0e4d'},\n",
      " {'id': '17913357586829346',\n",
      "  'media_type': 'VIDEO',\n",
      "  'media_url': 'https://video-lga3-2.cdninstagram.com/v/t50.2886-16/10000000_294219285763446_6253221452632718951_n.mp4?_nc_cat=102&vs=18169552633127960_2365826570&_nc_vs=HBksFQAYJEdJQ1dtQUIybFFORWx3c0JBR2RfQnJySDU4ZFdia1lMQUFBRhUAAsgBABUAGCRHRHhNblFzOF9wdWdQT0FBQVBlYW5hQkNPYUV5YmtZTEFBQUYVAgLIAQAoABgAGwGIB3VzZV9vaWwBMRUAACa%2BguGt8pbFPxUCKAJDMywXQEBIcrAgxJwYEmRhc2hfYmFzZWxpbmVfMV92MREAdeoHAA%3D%3D&ccb=1-3&_nc_sid=59939d&efg=eyJ2ZW5jb2RlX3RhZyI6InZ0c192b2RfdXJsZ2VuLjk2MC5mZWVkIn0%3D&_nc_ohc=evM1HtUOZT0AX-mCqWD&_nc_ht=video-lga3-2.cdninstagram.com&oh=fdc4bcf1877187660a95f67590c3ed1d&oe=60E17165&_nc_rid=8afdef4742'},\n",
      " {'children': {'data': [{'id': '18092936617251314',\n",
      "                         'media_type': 'IMAGE',\n",
      "                         'media_url': 'https://scontent-lga3-2.cdninstagram.com/v/t51.2885-15/197783720_150321333797326_5071966680198340283_n.jpg?_nc_cat=104&ccb=1-3&_nc_sid=8ae9d6&_nc_ohc=vYCVjyr1sCUAX_ckM3F&_nc_ht=scontent-lga3-2.cdninstagram.com&oh=848cdfe37a52132cd7ffc34453982cd6&oe=60E533A8'},\n",
      "                        {'id': '18009185077319714',\n",
      "                         'media_type': 'VIDEO',\n",
      "                         'media_url': 'https://video-lga3-2.cdninstagram.com/v/t50.2886-16/196834091_296359052221662_5836984590460743255_n.mp4?_nc_cat=103&vs=18235823752051569_3657210163&_nc_vs=HBksFQAYJEdDdHp1d3ZlbkFoNGlRMEJBRmR1MXpHUElnRlJia1lMQUFBRhUAAsgBABUAGCRHTlRNblF0eXhyZXBJR0FCQUJzbDRMOUFNY2xlYmtZTEFBQUYVAgLIAQAoABgAGwGIB3VzZV9vaWwBMRUAACbEsLHvjtLLPxUCKAJDMywXQBFU%2FfO2RaIYEmRhc2hfYmFzZWxpbmVfMV92MREAde4HAA%3D%3D&ccb=1-3&_nc_sid=59939d&efg=eyJ2ZW5jb2RlX3RhZyI6InZ0c192b2RfdXJsZ2VuLjk2MC5jYXJvdXNlbF9pdGVtIn0%3D&_nc_ohc=duCuiuyK81YAX-1pehB&_nc_ht=video-lga3-2.cdninstagram.com&oh=fd1af127de7f4bed43d8aed0112fa60b&oe=60E17411&_nc_rid=e701c35190'}]},\n",
      "  'id': '17881701146258937',\n",
      "  'media_type': 'CAROUSEL_ALBUM'},\n",
      " {'id': '18127036594200322',\n",
      "  'media_type': 'IMAGE',\n",
      "  'media_url': 'https://scontent-lga3-2.cdninstagram.com/v/t51.2885-15/197105940_586210419436312_2102099810345051746_n.jpg?_nc_cat=111&ccb=1-3&_nc_sid=8ae9d6&_nc_ohc=U1ze9Z7l0mUAX8z0InU&_nc_ht=scontent-lga3-2.cdninstagram.com&oh=825cbc70140e3711596fb5ee9d464bbf&oe=60E50257'},\n",
      " {'children': {'data': [{'id': '17874492365442081',\n",
      "                         'media_type': 'IMAGE',\n",
      "                         'media_url': 'https://scontent-lga3-2.cdninstagram.com/v/t51.2885-15/194989845_306397147620968_1601982036366650288_n.jpg?_nc_cat=104&ccb=1-3&_nc_sid=8ae9d6&_nc_ohc=8Qwe0VVVsIYAX-IN3Yb&_nc_ht=scontent-lga3-2.cdninstagram.com&oh=216ee53d5bfa0e1fe6cf626ac8a8d74a&oe=60E6A2F1'},\n",
      "                        {'id': '17855999012569542',\n",
      "                         'media_type': 'IMAGE',\n",
      "                         'media_url': 'https://scontent-lga3-2.cdninstagram.com/v/t51.2885-15/197730381_2915231865385373_3575239625821114450_n.jpg?_nc_cat=108&ccb=1-3&_nc_sid=8ae9d6&_nc_ohc=ILojLm33LG8AX9sZbVL&_nc_ht=scontent-lga3-2.cdninstagram.com&oh=52048f7403dfcb6217442245de5f282f&oe=60E5880A'}]},\n",
      "  'id': '18160325035155501',\n",
      "  'media_type': 'CAROUSEL_ALBUM'},\n",
      " {'id': '17911523653847288',\n",
      "  'media_type': 'IMAGE',\n",
      "  'media_url': 'https://scontent-lga3-2.cdninstagram.com/v/t51.29350-15/200125748_385094739612317_6684110921669013276_n.jpg?_nc_cat=102&ccb=1-3&_nc_sid=8ae9d6&_nc_ohc=hj4vaDqAW1EAX92Qq4K&_nc_ht=scontent-lga3-2.cdninstagram.com&oh=a5a2bae04128ce7cb5316b92e79f7c8a&oe=60E5C0AA'},\n",
      " {'id': '18184176274117426',\n",
      "  'media_type': 'IMAGE',\n",
      "  'media_url': 'https://scontent-lga3-2.cdninstagram.com/v/t51.29350-15/209830891_953105802157924_7501796148008058570_n.jpg?_nc_cat=103&ccb=1-3&_nc_sid=8ae9d6&_nc_ohc=ZOFJJn2bN4sAX9zmiDr&_nc_ht=scontent-lga3-2.cdninstagram.com&oh=6cf415af39740bdfdc9dc68109d82c4d&oe=60E58455'},\n",
      " {'id': '17880675320479706',\n",
      "  'media_type': 'VIDEO',\n",
      "  'media_url': 'https://video-lga3-2.cdninstagram.com/v/t50.2886-16/200219932_483087506254685_862393379517006219_n.mp4?_nc_cat=101&vs=18093231520255242_3664575605&_nc_vs=HBksFQAYJEdCd2Q3d3RkcXpTVFhiY0JBSXVCd3FJMTF2Y0xia1lMQUFBRhUAAsgBABUAGCRHRjBQLUF1bkNLZXNSemdCQUxyRXMzR3BLSk1WYmtZTEFBQUYVAgLIAQAoABgAGwGIB3VzZV9vaWwBMRUAACa4vZSspo%2B%2FQBUCKAJDMywXQDBEGJN0vGoYEmRhc2hfYmFzZWxpbmVfMV92MREAdeoHAA%3D%3D&ccb=1-3&_nc_sid=59939d&efg=eyJ2ZW5jb2RlX3RhZyI6InZ0c192b2RfdXJsZ2VuLjU3Ni5mZWVkIn0%3D&_nc_ohc=tQEjKQrNpQEAX8xeVBU&_nc_ht=video-lga3-2.cdninstagram.com&oh=935cc6890393de3bed282a038e2447d0&oe=60E17428&_nc_rid=143a79d680'},\n",
      " {'id': '17933980465560220',\n",
      "  'media_type': 'IMAGE',\n",
      "  'media_url': 'https://scontent-lga3-2.cdninstagram.com/v/t51.2885-15/209419616_339715704225565_7716806493309053714_n.jpg?_nc_cat=1&ccb=1-3&_nc_sid=8ae9d6&_nc_ohc=8j4F05dqoWsAX9ac_t0&_nc_ht=scontent-lga3-2.cdninstagram.com&oh=737f9fd9fcaf20c414b01034d97cb26c&oe=60E6CD72'},\n",
      " {'id': '17891776688110364',\n",
      "  'media_type': 'VIDEO',\n",
      "  'media_url': 'https://video-lga3-2.cdninstagram.com/v/t50.2886-16/207728014_158923632896299_7168156887296872164_n.mp4?_nc_cat=100&vs=17973382057392390_1219028534&_nc_vs=HBksFQAYJEdJNnRZUXdyYWE5S2lwQUFBT1NPbWVHMWFIcGpia1lMQUFBRhUAAsgBABUAGCRHTENVVUF3TkpLd0g3UUFEQUF2LV9UV1NJY3h6YmtZTEFBQUYVAgLIAQAoABgAGwGIB3VzZV9vaWwBMRUAACa26c3p5erMPxUCKAJDMywXQDu7peNT988YEmRhc2hfYmFzZWxpbmVfMV92MREAdeoHAA%3D%3D&ccb=1-3&_nc_sid=59939d&efg=eyJ2ZW5jb2RlX3RhZyI6InZ0c192b2RfdXJsZ2VuLjcyMC5mZWVkIn0%3D&_nc_ohc=EuUURU1Ac5kAX9MBjuV&_nc_ht=video-lga3-2.cdninstagram.com&oh=0a82c3e6a8f20d38885cd53f3649de7a&oe=60E18B69&_nc_rid=87ed9cb40f'},\n",
      " {'id': '17870935214421017', 'media_type': 'VIDEO'},\n",
      " {'id': '18016200283315053',\n",
      "  'media_type': 'IMAGE',\n",
      "  'media_url': 'https://scontent-lga3-2.cdninstagram.com/v/t51.29350-15/211481103_1097375620666189_3603381384893161454_n.jpg?_nc_cat=100&ccb=1-3&_nc_sid=8ae9d6&_nc_ohc=mP9s7KGqf0gAX8qyXKx&_nc_ht=scontent-lga3-2.cdninstagram.com&oh=fd38afcb19600e35648d961318fb4877&oe=60E5D2C9'},\n",
      " {'id': '17882291648311818',\n",
      "  'media_type': 'IMAGE',\n",
      "  'media_url': 'https://scontent-lga3-2.cdninstagram.com/v/t51.29350-15/209647712_517192159698271_1100524176662020398_n.jpg?_nc_cat=108&ccb=1-3&_nc_sid=8ae9d6&_nc_ohc=AbNyorEPeFUAX9yX5Vf&_nc_ht=scontent-lga3-2.cdninstagram.com&oh=d8fd9cce019a1b864d872afb1a6bcb31&oe=60E6BE5F'},\n",
      " {'id': '17938234120533425',\n",
      "  'media_type': 'IMAGE',\n",
      "  'media_url': 'https://scontent-lga3-2.cdninstagram.com/v/t51.29350-15/209611325_994474734653752_7603162193416301459_n.jpg?_nc_cat=102&ccb=1-3&_nc_sid=8ae9d6&_nc_ohc=n969S-orwRQAX8iZt4F&_nc_ht=scontent-lga3-2.cdninstagram.com&oh=e5259430bfae771f34a1e4d1e91219d4&oe=60E56FB8'},\n",
      " {'id': '17872284638385396',\n",
      "  'media_type': 'VIDEO',\n",
      "  'media_url': 'https://video-lga3-2.cdninstagram.com/v/t50.2886-16/197166983_2592034764431901_330198952758567014_n.mp4?_nc_cat=110&vs=17888526308231400_2252622339&_nc_vs=HBksFQAYJEdJZUh3QXNkSW1FZmNUVUpBR1pnWWJReUdwVUVia1lMQUFBRhUAAsgBABUAGCRHTm4xbUFzeTdkbEhsblFBQUc3RlhzWi1ZOUUxYmtZTEFBQUYVAgLIAQAoABgAGwGIB3VzZV9vaWwBMRUAACbap9PT5sTSPxUCKAJDMywXQBt2yLQ5WBAYEmRhc2hfYmFzZWxpbmVfMV92MREAdeoHAA%3D%3D&ccb=1-3&_nc_sid=59939d&efg=eyJ2ZW5jb2RlX3RhZyI6InZ0c192b2RfdXJsZ2VuLjU3Ni5mZWVkIn0%3D&_nc_ohc=L51wnhD28aYAX_R9nYl&_nc_ht=video-lga3-2.cdninstagram.com&oh=566a0cf3b3fc3a58434582e1e36f6dae&oe=60E18E61&_nc_rid=7bc0d1a3d3'}]\n"
     ]
    }
   ],
   "source": [
    "import requests\n",
    "import json\n",
    "from pprint import pprint\n",
    "\n",
    "path = BASE_PATH + f'{hashtag_id}/top_media?user_id={INSTAGRAM_USER_ID}&fields=id,media_type,media_url,children{{media_type,media_url}}&access_token={ACCESS_TOKEN}'\n",
    "\n",
    "response = requests.get(url=path)\n",
    "response_data = json.loads(response.text)\n",
    "pprint(response_data['data'])"
   ]
  },
  {
   "cell_type": "code",
   "execution_count": 42,
   "id": "25925130",
   "metadata": {},
   "outputs": [
    {
     "name": "stdout",
     "output_type": "stream",
     "text": [
      "ERROR: No media_url:    {'id': '18123795037212702', 'media_type': 'VIDEO'}\n",
      "ERROR: No media_url:    {'id': '17870935214421017', 'media_type': 'VIDEO'}\n",
      "\n",
      "\n",
      " ['https://scontent-lga3-2.cdninstagram.com/v/t51.29350-15/209800677_101793415479946_3092381485978835843_n.jpg?_nc_cat=106&ccb=1-3&_nc_sid=8ae9d6&_nc_ohc=5wCkRbpDMIgAX_497ax&_nc_ht=scontent-lga3-2.cdninstagram.com&oh=721eca086d23bc484bb343660ad2ee70&oe=60E58BD2', 'https://scontent-lga3-2.cdninstagram.com/v/t51.2885-15/210362519_897692694144520_4865777868201256293_n.jpg?_nc_cat=105&ccb=1-3&_nc_sid=8ae9d6&_nc_ohc=UG4h0MTdPcwAX-9dT6D&_nc_ht=scontent-lga3-2.cdninstagram.com&oh=03bf1d8291e3f66336ecc4a68fbee924&oe=60E5D9C3', 'https://video-lga3-2.cdninstagram.com/v/t50.2886-16/213024142_385243519696733_4914955736861737010_n.mp4?_nc_cat=110&vs=18230889268067577_3583467979&_nc_vs=HBksFQAYJEdJNTlzZ3hkdnlSLVlGNEJBREtBYWI0emJqVkVia1lMQUFBRhUAAsgBABUAGCRHSm9Dcnd6b3pqTFZQQndCQUlDd2tlbndHYjhHYmtZTEFBQUYVAgLIAQAoABgAGwGIB3VzZV9vaWwBMRUAACbK9Yz72sasQBUCKAJDMywXQB6p%2B%2Bdsi0QYEmRhc2hfYmFzZWxpbmVfMV92MREAdeoHAA%3D%3D&ccb=1-3&_nc_sid=59939d&efg=eyJ2ZW5jb2RlX3RhZyI6InZ0c192b2RfdXJsZ2VuLjU3Ni5mZWVkIn0%3D&_nc_ohc=fo1MqxzNiSgAX9Ng7z4&_nc_ht=video-lga3-2.cdninstagram.com&oh=cdfcc8aa5c516125cdb5ffdf82f438b1&oe=60E1813F&_nc_rid=b2a94cecad', 'https://video-lga3-2.cdninstagram.com/v/t50.2886-16/207023231_135271868706537_4991910097279407255_n.mp4?_nc_cat=100&vs=17877847433426060_1291914677&_nc_vs=HBksFQAYJEdILXNWZ3pwcnE1dkIzc0FBSmRVQmdQSjAwWkZia1lMQUFBRhUAAsgBABUAGCRHTUphVGd6clp4eGlCZFVDQUdHQnR3dFdnaHh5YmtZTEFBQUYVAgLIAQAoABgAGwGIB3VzZV9vaWwBMRUAACak1u3z7PTMPxUCKAJDMywXQD1VP3ztkWgYEmRhc2hfYmFzZWxpbmVfMV92MREAdeoHAA%3D%3D&ccb=1-3&_nc_sid=59939d&efg=eyJ2ZW5jb2RlX3RhZyI6InZ0c192b2RfdXJsZ2VuLjU3Ni5mZWVkIn0%3D&_nc_ohc=AYkebLBiDKcAX8RxzRQ&_nc_oc=AQk0Jlm8sUpOSRGh_Msgu43iQrGwiGu74mihnVg_XsB584yTuvm1ovXnyfyWSUxPvN8&_nc_ht=video-lga3-2.cdninstagram.com&oh=5efb24e9198a946f7646a486ec93021c&oe=60E16A60&_nc_rid=b9f8ac32e4', 'https://scontent-lga3-2.cdninstagram.com/v/t51.29350-15/210492717_294557855741560_531281454620454031_n.jpg?_nc_cat=1&ccb=1-3&_nc_sid=8ae9d6&_nc_ohc=nRET-F7-8bkAX_gtcft&_nc_ht=scontent-lga3-2.cdninstagram.com&oh=88432177609534481efa0d5f8b59ce92&oe=60E5AA55', 'https://scontent-lga3-2.cdninstagram.com/v/t51.2885-15/210502343_876316226293331_3743775414481093993_n.jpg?_nc_cat=100&ccb=1-3&_nc_sid=8ae9d6&_nc_ohc=KqXS4nAC46sAX_-tRwR&_nc_ht=scontent-lga3-2.cdninstagram.com&oh=6f402235d0a124b753398d6bc277fb09&oe=60E5E8BC', 'https://scontent-lga3-2.cdninstagram.com/v/t51.2885-15/209618397_587382378915674_464947883177493755_n.jpg?_nc_cat=102&ccb=1-3&_nc_sid=8ae9d6&_nc_ohc=pWit7MhMDiwAX9UIZdr&_nc_ht=scontent-lga3-2.cdninstagram.com&oh=55da7c6259a932e75720558accbf4c4a&oe=60E64172', 'https://video-lga3-2.cdninstagram.com/v/t50.2886-16/10000000_294219285763446_6253221452632718951_n.mp4?_nc_cat=102&vs=18169552633127960_2365826570&_nc_vs=HBksFQAYJEdJQ1dtQUIybFFORWx3c0JBR2RfQnJySDU4ZFdia1lMQUFBRhUAAsgBABUAGCRHRHhNblFzOF9wdWdQT0FBQVBlYW5hQkNPYUV5YmtZTEFBQUYVAgLIAQAoABgAGwGIB3VzZV9vaWwBMRUAACa%2BguGt8pbFPxUCKAJDMywXQEBIcrAgxJwYEmRhc2hfYmFzZWxpbmVfMV92MREAdeoHAA%3D%3D&ccb=1-3&_nc_sid=59939d&efg=eyJ2ZW5jb2RlX3RhZyI6InZ0c192b2RfdXJsZ2VuLjk2MC5mZWVkIn0%3D&_nc_ohc=evM1HtUOZT0AX-mCqWD&_nc_ht=video-lga3-2.cdninstagram.com&oh=fdc4bcf1877187660a95f67590c3ed1d&oe=60E17165&_nc_rid=7df6142ce8', 'https://scontent-lga3-2.cdninstagram.com/v/t51.2885-15/197281385_123542823201951_3445486448977014824_n.jpg?_nc_cat=109&ccb=1-3&_nc_sid=8ae9d6&_nc_ohc=laJpRP8Bc2EAX_q9IOu&_nc_ht=scontent-lga3-2.cdninstagram.com&oh=2fdf9e10716b2487ae5e291a0b6178b2&oe=60E5D433', 'https://video-lga3-2.cdninstagram.com/v/t50.2886-16/206714038_529526471734785_147688950843309274_n.mp4?_nc_cat=106&vs=17904687340980169_3292478810&_nc_vs=HBksFQAYJEdMWTBVZ3dCTmotOW1lRUJBTnI4UTN4UnNnd0Nia1lMQUFBRhUAAsgBABUAGCRHRGdIVXd6eTJJRHozYmdCQU9ncWlva0VXMGNoYmtZTEFBQUYVAgLIAQAoABgAGwGIB3VzZV9vaWwBMRUAACa0m7yDjLfLPxUCKAJDMywXQDv3S8an754YEmRhc2hfYmFzZWxpbmVfMV92MREAdeoHAA%3D%3D&ccb=1-3&_nc_sid=59939d&efg=eyJ2ZW5jb2RlX3RhZyI6InZ0c192b2RfdXJsZ2VuLjU3Ni5mZWVkIn0%3D&_nc_ohc=yor0Cik7rGUAX936rSU&_nc_ht=video-lga3-2.cdninstagram.com&oh=6a5f1e3111bb88aa9ce107460c62b4a0&oe=60E19719&_nc_rid=748a16b779', 'https://scontent-lga3-2.cdninstagram.com/v/t51.2885-15/197783720_150321333797326_5071966680198340283_n.jpg?_nc_cat=104&ccb=1-3&_nc_sid=8ae9d6&_nc_ohc=vYCVjyr1sCUAX_ckM3F&_nc_ht=scontent-lga3-2.cdninstagram.com&oh=848cdfe37a52132cd7ffc34453982cd6&oe=60E533A8', 'https://scontent-lga3-2.cdninstagram.com/v/t51.29350-15/200125748_385094739612317_6684110921669013276_n.jpg?_nc_cat=102&ccb=1-3&_nc_sid=8ae9d6&_nc_ohc=hj4vaDqAW1EAX92Qq4K&_nc_ht=scontent-lga3-2.cdninstagram.com&oh=a5a2bae04128ce7cb5316b92e79f7c8a&oe=60E5C0AA', 'https://scontent-lga3-2.cdninstagram.com/v/t51.2885-15/194989845_306397147620968_1601982036366650288_n.jpg?_nc_cat=104&ccb=1-3&_nc_sid=8ae9d6&_nc_ohc=8Qwe0VVVsIYAX-IN3Yb&_nc_ht=scontent-lga3-2.cdninstagram.com&oh=216ee53d5bfa0e1fe6cf626ac8a8d74a&oe=60E6A2F1', 'https://scontent-lga3-2.cdninstagram.com/v/t51.29350-15/211481103_1097375620666189_3603381384893161454_n.jpg?_nc_cat=100&ccb=1-3&_nc_sid=8ae9d6&_nc_ohc=mP9s7KGqf0gAX8qyXKx&_nc_ht=scontent-lga3-2.cdninstagram.com&oh=fd38afcb19600e35648d961318fb4877&oe=60E5D2C9', 'https://video-lga3-2.cdninstagram.com/v/t50.2886-16/202718576_497083591507611_4050567203760667954_n.mp4?_nc_cat=108&vs=17902093261913899_1348867562&_nc_vs=HBksFQAYJEdIQTlGUXliUHVWS0dNUUJBREo5QURkcGdUWTRia1lMQUFBRhUAAsgBABUAGCRHQWk0R1F6dUgySFJpMmNBQUxpbWd4cTVmdzVTYmtZTEFBQUYVAgLIAQAoABgAGwGIB3VzZV9vaWwBMRUAACbc1bSAx83MPxUCKAJDMywXQDuQ5WBBiTcYEmRhc2hfYmFzZWxpbmVfMV92MREAdeoHAA%3D%3D&ccb=1-3&_nc_sid=59939d&efg=eyJ2ZW5jb2RlX3RhZyI6InZ0c192b2RfdXJsZ2VuLjU3Ni5mZWVkIn0%3D&_nc_ohc=_cW8j7TPhywAX-Eyf6f&_nc_ht=video-lga3-2.cdninstagram.com&oh=b9bc45200db7fb50a725583252fed6f6&oe=60E1962A&_nc_rid=79ee8cfd9c', 'https://scontent-lga3-2.cdninstagram.com/v/t51.2885-15/209419616_339715704225565_7716806493309053714_n.jpg?_nc_cat=1&ccb=1-3&_nc_sid=8ae9d6&_nc_ohc=8j4F05dqoWsAX9ac_t0&_nc_ht=scontent-lga3-2.cdninstagram.com&oh=737f9fd9fcaf20c414b01034d97cb26c&oe=60E6CD72', 'https://scontent-lga3-2.cdninstagram.com/v/t51.2885-15/197105940_586210419436312_2102099810345051746_n.jpg?_nc_cat=111&ccb=1-3&_nc_sid=8ae9d6&_nc_ohc=U1ze9Z7l0mUAX8z0InU&_nc_ht=scontent-lga3-2.cdninstagram.com&oh=825cbc70140e3711596fb5ee9d464bbf&oe=60E50257', 'https://video-lga3-2.cdninstagram.com/v/t50.2886-16/207728014_158923632896299_7168156887296872164_n.mp4?_nc_cat=100&vs=17973382057392390_1219028534&_nc_vs=HBksFQAYJEdJNnRZUXdyYWE5S2lwQUFBT1NPbWVHMWFIcGpia1lMQUFBRhUAAsgBABUAGCRHTENVVUF3TkpLd0g3UUFEQUF2LV9UV1NJY3h6YmtZTEFBQUYVAgLIAQAoABgAGwGIB3VzZV9vaWwBMRUAACa26c3p5erMPxUCKAJDMywXQDu7peNT988YEmRhc2hfYmFzZWxpbmVfMV92MREAdeoHAA%3D%3D&ccb=1-3&_nc_sid=59939d&efg=eyJ2ZW5jb2RlX3RhZyI6InZ0c192b2RfdXJsZ2VuLjcyMC5mZWVkIn0%3D&_nc_ohc=EuUURU1Ac5kAX9MBjuV&_nc_ht=video-lga3-2.cdninstagram.com&oh=0a82c3e6a8f20d38885cd53f3649de7a&oe=60E18B69&_nc_rid=47f2e3e4ce', 'https://scontent-lga3-2.cdninstagram.com/v/t51.29350-15/209647712_517192159698271_1100524176662020398_n.jpg?_nc_cat=108&ccb=1-3&_nc_sid=8ae9d6&_nc_ohc=AbNyorEPeFUAX9yX5Vf&_nc_ht=scontent-lga3-2.cdninstagram.com&oh=d8fd9cce019a1b864d872afb1a6bcb31&oe=60E6BE5F', 'https://video-lga3-2.cdninstagram.com/v/t50.2886-16/200219932_483087506254685_862393379517006219_n.mp4?_nc_cat=101&vs=18093231520255242_3664575605&_nc_vs=HBksFQAYJEdCd2Q3d3RkcXpTVFhiY0JBSXVCd3FJMTF2Y0xia1lMQUFBRhUAAsgBABUAGCRHRjBQLUF1bkNLZXNSemdCQUxyRXMzR3BLSk1WYmtZTEFBQUYVAgLIAQAoABgAGwGIB3VzZV9vaWwBMRUAACa4vZSspo%2B%2FQBUCKAJDMywXQDBEGJN0vGoYEmRhc2hfYmFzZWxpbmVfMV92MREAdeoHAA%3D%3D&ccb=1-3&_nc_sid=59939d&efg=eyJ2ZW5jb2RlX3RhZyI6InZ0c192b2RfdXJsZ2VuLjU3Ni5mZWVkIn0%3D&_nc_ohc=tQEjKQrNpQEAX8xeVBU&_nc_ht=video-lga3-2.cdninstagram.com&oh=935cc6890393de3bed282a038e2447d0&oe=60E17428&_nc_rid=f28a5c7241', 'https://video-lga3-2.cdninstagram.com/v/t50.2886-16/197166983_2592034764431901_330198952758567014_n.mp4?_nc_cat=110&vs=17888526308231400_2252622339&_nc_vs=HBksFQAYJEdJZUh3QXNkSW1FZmNUVUpBR1pnWWJReUdwVUVia1lMQUFBRhUAAsgBABUAGCRHTm4xbUFzeTdkbEhsblFBQUc3RlhzWi1ZOUUxYmtZTEFBQUYVAgLIAQAoABgAGwGIB3VzZV9vaWwBMRUAACbap9PT5sTSPxUCKAJDMywXQBt2yLQ5WBAYEmRhc2hfYmFzZWxpbmVfMV92MREAdeoHAA%3D%3D&ccb=1-3&_nc_sid=59939d&efg=eyJ2ZW5jb2RlX3RhZyI6InZ0c192b2RfdXJsZ2VuLjU3Ni5mZWVkIn0%3D&_nc_ohc=L51wnhD28aYAX_R9nYl&_nc_ht=video-lga3-2.cdninstagram.com&oh=566a0cf3b3fc3a58434582e1e36f6dae&oe=60E18E61&_nc_rid=3683aced75', 'https://scontent-lga3-2.cdninstagram.com/v/t51.29350-15/209830891_953105802157924_7501796148008058570_n.jpg?_nc_cat=103&ccb=1-3&_nc_sid=8ae9d6&_nc_ohc=ZOFJJn2bN4sAX9zmiDr&_nc_ht=scontent-lga3-2.cdninstagram.com&oh=6cf415af39740bdfdc9dc68109d82c4d&oe=60E58455', 'https://scontent-lga3-2.cdninstagram.com/v/t51.29350-15/209611325_994474734653752_7603162193416301459_n.jpg?_nc_cat=102&ccb=1-3&_nc_sid=8ae9d6&_nc_ohc=n969S-orwRQAX8iZt4F&_nc_ht=scontent-lga3-2.cdninstagram.com&oh=e5259430bfae771f34a1e4d1e91219d4&oe=60E56FB8']\n"
     ]
    }
   ],
   "source": [
    "import requests\n",
    "from pprint import pprint \n",
    "\n",
    "\n",
    "media_urls = []\n",
    "\n",
    "for media in response_data['data']:\n",
    "    if media['media_type'] == 'CAROUSEL_ALBUM':\n",
    "        media_urls.append(media['children']['data'][0]['media_url'])\n",
    "        continue\n",
    "    try:\n",
    "        media_urls.append(media['media_url'])\n",
    "    except KeyError:\n",
    "        print(f\"ERROR: No media_url:    {media}\")\n",
    "print('\\n\\n', media_urls)"
   ]
  },
  {
   "cell_type": "code",
   "execution_count": null,
   "id": "d0d3108b",
   "metadata": {},
   "outputs": [],
   "source": []
  }
 ],
 "metadata": {
  "kernelspec": {
   "display_name": "Python 3 (ipykernel)",
   "language": "python",
   "name": "python3"
  },
  "language_info": {
   "codemirror_mode": {
    "name": "ipython",
    "version": 3
   },
   "file_extension": ".py",
   "mimetype": "text/x-python",
   "name": "python",
   "nbconvert_exporter": "python",
   "pygments_lexer": "ipython3",
   "version": "3.8.5"
  }
 },
 "nbformat": 4,
 "nbformat_minor": 5
}
